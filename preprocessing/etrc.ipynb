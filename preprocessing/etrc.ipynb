{
 "cells": [
  {
   "cell_type": "code",
   "execution_count": 1,
   "metadata": {},
   "outputs": [],
   "source": [
    "import os \n",
    "import pandas"
   ]
  },
  {
   "cell_type": "code",
   "execution_count": 2,
   "metadata": {},
   "outputs": [],
   "source": [
    "datapath = \"/Users/tima/Documents/GitHub/aspirantAI/data/\""
   ]
  },
  {
   "cell_type": "code",
   "execution_count": 11,
   "metadata": {},
   "outputs": [],
   "source": [
    "import os\n",
    "import pandas as pd\n",
    "import re\n",
    "\n",
    "def parse_python_files_in_folder(folder_path):\n",
    "    \"\"\"\n",
    "    Parse all .py files in the specified folder and return a DataFrame\n",
    "    where each row contains either a class or a function.\n",
    "    \n",
    "    Parameters:\n",
    "    - folder_path: Path to the folder containing .py files\n",
    "    \n",
    "    Returns:\n",
    "    - DataFrame with parsed content\n",
    "    \"\"\"\n",
    "    all_splits = []\n",
    "\n",
    "    # Iterate over all files in the folder\n",
    "    for filename in os.listdir(folder_path):\n",
    "        if filename.endswith(\".py\"):\n",
    "            with open(os.path.join(folder_path, filename), 'r') as file:\n",
    "                content = file.read()\n",
    "\n",
    "                 # Split content based on classes to separate class blocks and standalone functions\n",
    "                class_splits = re.split(r'(?=# class )', content)\n",
    "\n",
    "                for split in class_splits:\n",
    "                    # If \"def\" is found without any preceding \"class\", it's a standalone function\n",
    "                    if \"def \" in split and \"# class \" not in split:\n",
    "                        func_splits = re.split(r'(?=def )', split)\n",
    "                        all_splits.extend([s.strip() for s in func_splits if s.strip()])\n",
    "                    else:\n",
    "                        # It's a class block, keep it as a single entry\n",
    "                        all_splits.append(split.strip())\n",
    "\n",
    "    # Create a DataFrame\n",
    "    df = pd.DataFrame(all_splits, columns=['Content'])\n",
    "\n",
    "    return df"
   ]
  },
  {
   "cell_type": "code",
   "execution_count": 12,
   "metadata": {},
   "outputs": [
    {
     "data": {
      "text/html": [
       "<div>\n",
       "<style scoped>\n",
       "    .dataframe tbody tr th:only-of-type {\n",
       "        vertical-align: middle;\n",
       "    }\n",
       "\n",
       "    .dataframe tbody tr th {\n",
       "        vertical-align: top;\n",
       "    }\n",
       "\n",
       "    .dataframe thead th {\n",
       "        text-align: right;\n",
       "    }\n",
       "</style>\n",
       "<table border=\"1\" class=\"dataframe\">\n",
       "  <thead>\n",
       "    <tr style=\"text-align: right;\">\n",
       "      <th></th>\n",
       "      <th>Content</th>\n",
       "    </tr>\n",
       "  </thead>\n",
       "  <tbody>\n",
       "    <tr>\n",
       "      <th>0</th>\n",
       "      <td>class Card:\\n\\n    rankval = {\\n            'A...</td>\n",
       "    </tr>\n",
       "    <tr>\n",
       "      <th>1</th>\n",
       "      <td>def __init__(self, r, s):\\n        self.rank =...</td>\n",
       "    </tr>\n",
       "    <tr>\n",
       "      <th>2</th>\n",
       "      <td>def __repr__(self):\\n        return self.rank ...</td>\n",
       "    </tr>\n",
       "    <tr>\n",
       "      <th>3</th>\n",
       "      <td>def __lt__(self, other):\\n        '''support t...</td>\n",
       "    </tr>\n",
       "    <tr>\n",
       "      <th>4</th>\n",
       "      <td>def __init__(self):\\n        self.cards = []\\n...</td>\n",
       "    </tr>\n",
       "    <tr>\n",
       "      <th>...</th>\n",
       "      <td>...</td>\n",
       "    </tr>\n",
       "    <tr>\n",
       "      <th>238</th>\n",
       "      <td>def sum_odds_m_to_n(m, n):\\n    '''Find sum of...</td>\n",
       "    </tr>\n",
       "    <tr>\n",
       "      <th>239</th>\n",
       "      <td>def for_print(m, n):\\n    '''Purpose: print al...</td>\n",
       "    </tr>\n",
       "    <tr>\n",
       "      <th>240</th>\n",
       "      <td>def is_vowel(ch):\\n    '''Purpose: Return True...</td>\n",
       "    </tr>\n",
       "    <tr>\n",
       "      <th>241</th>\n",
       "      <td>def vowel_index(s):\\n    '''Purpose: Return th...</td>\n",
       "    </tr>\n",
       "    <tr>\n",
       "      <th>242</th>\n",
       "      <td>def main():\\n    # result = sum_odds_m_to_n(3,...</td>\n",
       "    </tr>\n",
       "  </tbody>\n",
       "</table>\n",
       "<p>243 rows × 1 columns</p>\n",
       "</div>"
      ],
      "text/plain": [
       "                                               Content\n",
       "0    class Card:\\n\\n    rankval = {\\n            'A...\n",
       "1    def __init__(self, r, s):\\n        self.rank =...\n",
       "2    def __repr__(self):\\n        return self.rank ...\n",
       "3    def __lt__(self, other):\\n        '''support t...\n",
       "4    def __init__(self):\\n        self.cards = []\\n...\n",
       "..                                                 ...\n",
       "238  def sum_odds_m_to_n(m, n):\\n    '''Find sum of...\n",
       "239  def for_print(m, n):\\n    '''Purpose: print al...\n",
       "240  def is_vowel(ch):\\n    '''Purpose: Return True...\n",
       "241  def vowel_index(s):\\n    '''Purpose: Return th...\n",
       "242  def main():\\n    # result = sum_odds_m_to_n(3,...\n",
       "\n",
       "[243 rows x 1 columns]"
      ]
     },
     "execution_count": 12,
     "metadata": {},
     "output_type": "execute_result"
    }
   ],
   "source": [
    "folder_path = \"/Users/tima/Documents/GitHub/aspirantAI/data/\"  \n",
    "df = parse_python_files_in_folder(folder_path)\n",
    "df"
   ]
  },
  {
   "cell_type": "code",
   "execution_count": null,
   "metadata": {},
   "outputs": [],
   "source": []
  }
 ],
 "metadata": {
  "kernelspec": {
   "display_name": "base",
   "language": "python",
   "name": "python3"
  },
  "language_info": {
   "codemirror_mode": {
    "name": "ipython",
    "version": 3
   },
   "file_extension": ".py",
   "mimetype": "text/x-python",
   "name": "python",
   "nbconvert_exporter": "python",
   "pygments_lexer": "ipython3",
   "version": "3.8.16"
  }
 },
 "nbformat": 4,
 "nbformat_minor": 2
}
