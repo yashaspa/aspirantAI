{
 "cells": [
  {
   "cell_type": "code",
   "execution_count": 4,
   "metadata": {},
   "outputs": [],
   "source": [
    "import os \n",
    "import pandas as pd"
   ]
  },
  {
   "cell_type": "markdown",
   "metadata": {},
   "source": [
    "Func to split `*.py` into bits and load into a `.csv`"
   ]
  },
  {
   "cell_type": "code",
   "execution_count": 8,
   "metadata": {},
   "outputs": [],
   "source": [
    "# reg expr lib \n",
    "import re\n",
    "\n",
    "def parse_python_files_in_folder(folder_path):\n",
    "    \"\"\"\n",
    "    Parse all .py files in the specified folder and return a DataFrame\n",
    "    where each row contains either a class or a function.\n",
    "    \n",
    "    Parameters:\n",
    "    - folder_path: Path to the folder containing .py files\n",
    "    \n",
    "    Returns:\n",
    "    - DataFrame with parsed content\n",
    "    \"\"\"\n",
    "    all_splits = []\n",
    "\n",
    "    # Iterate over all files in the folder\n",
    "    for filename in os.listdir(folder_path):\n",
    "        if filename.endswith(\".py\"):\n",
    "            with open(os.path.join(folder_path, filename), 'r') as file:\n",
    "                content = file.read()\n",
    "                if \"def\" in content: \n",
    "                    # Split content based on classes to separate class blocks and standalone functions\n",
    "                    class_splits = re.split(r'(?=# class )', content)\n",
    "                    for split in class_splits:\n",
    "                        # If \"def\" is found without any preceding \"class\", it's a standalone function\n",
    "                        if \"def \" in split and \"# class \" not in split:\n",
    "                            func_splits = re.split(r'(?=def )', split)\n",
    "                            all_splits.extend([s.strip() for s in func_splits if s.strip()])\n",
    "                        else:\n",
    "                            # It's a class block, keep it as a single entry\n",
    "                            all_splits.append(split.strip())\n",
    "\n",
    "    # Create a DataFrame\n",
    "    df = pd.DataFrame(all_splits, columns=['Content'])\n",
    "\n",
    "    return df"
   ]
  },
  {
   "cell_type": "code",
   "execution_count": 11,
   "metadata": {},
   "outputs": [],
   "source": [
    "df = parse_python_files_in_folder(\"/Users/tima/Documents/GitHub/aspirantAI/data/\")\n",
    "df.to_csv(\"first_data_split.csv\")"
   ]
  },
  {
   "cell_type": "code",
   "execution_count": 14,
   "metadata": {},
   "outputs": [
    {
     "data": {
      "text/plain": [
       "\"def while_sum_evens(n):\\n    '''Purpose:\\n    Sum the even numbers 2+4+6+...+n\\n    using a while loop\\n\\n    Parameter:\\n        n - a positive int\\n\\n    Return Value:\\n        the sum\\n    '''\\n    i = 2\\n    sum = 0\\n    while i <= n:\\n        sum += i\\n        i = i + 2\\n    # while i <= n:\\n    #     if i % 2 == 0:\\n    #         sum += i\\n    #     i = i + 1\\n    return sum\""
      ]
     },
     "execution_count": 14,
     "metadata": {},
     "output_type": "execute_result"
    }
   ],
   "source": [
    "df.iloc[10, 0]"
   ]
  }
 ],
 "metadata": {
  "kernelspec": {
   "display_name": "base",
   "language": "python",
   "name": "python3"
  },
  "language_info": {
   "codemirror_mode": {
    "name": "ipython",
    "version": 3
   },
   "file_extension": ".py",
   "mimetype": "text/x-python",
   "name": "python",
   "nbconvert_exporter": "python",
   "pygments_lexer": "ipython3",
   "version": "3.8.16"
  }
 },
 "nbformat": 4,
 "nbformat_minor": 2
}
